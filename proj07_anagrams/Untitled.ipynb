{
 "cells": [
  {
   "cell_type": "markdown",
   "metadata": {},
   "source": [
    "Solving Anagrams.\n",
    "\n",
    "Created by: Tony Held\n",
    "Created on: 2021-03-15\n",
    "\n",
    "References & Acknowledgements:\n",
    "1) Inspired by `Impractical Python Projects` Chapter 3"
   ]
  },
  {
   "cell_type": "code",
   "execution_count": 10,
   "metadata": {},
   "outputs": [],
   "source": [
    "# **********************************************\n",
    "#     Jupyter Interactive Mode Settings\n",
    "# **********************************************\n",
    "from IPython.core.interactiveshell import InteractiveShell\n",
    "InteractiveShell.ast_node_interactivity = \"last_expr_or_assign\"\n",
    "\n",
    "# **********************************************\n",
    "#     Allows autocomplete to work properly\n",
    "# **********************************************\n",
    "%config Completer.use_jedi = False"
   ]
  },
  {
   "cell_type": "code",
   "execution_count": 11,
   "metadata": {},
   "outputs": [],
   "source": [
    "def load_dictionary():\n",
    "    file_name = 'dictionaries/2of4brif.txt'\n",
    "\n",
    "    with open(file_name) as fn:\n",
    "        words_raw = fn.readlines()\n",
    "    words = [i.strip().lower() for i in words_raw]\n",
    "\n",
    "    print(f'Dictionary with {len(words)} entries loaded.')\n",
    "    print(f'The first and last 5 entries are:')\n",
    "    print(f'{words[0:5]}\\n{words[-5:]}')\n",
    "\n",
    "    return words"
   ]
  },
  {
   "cell_type": "code",
   "execution_count": 12,
   "metadata": {},
   "outputs": [],
   "source": [
    "def listify_words(words):\n",
    "    \"\"\"Take a list of words and convert to a list of lists of letters\"\"\"\n",
    "    words_sorted = [sorted(list(i)) for i in words]\n",
    "\n",
    "    print(f'The first and last 5 entries are:')\n",
    "    print(f'{words_sorted[0:5]}\\n{words_sorted[-5:]}')\n",
    "\n",
    "    return words_sorted"
   ]
  },
  {
   "cell_type": "code",
   "execution_count": 20,
   "metadata": {},
   "outputs": [],
   "source": [
    "def main():\n",
    "    words = load_dictionary()\n",
    "    words_sorted = listify_words(words)\n",
    "    return words, words_sorted"
   ]
  },
  {
   "cell_type": "code",
   "execution_count": 22,
   "metadata": {},
   "outputs": [
    {
     "name": "stdout",
     "output_type": "stream",
     "text": [
      "Dictionary with 60388 entries loaded.\n",
      "The first and last 5 entries are:\n",
      "['aah', 'aardvark', 'aardvarks', 'abacus', 'abacuses']\n",
      "['zucchini', 'zucchinis', 'zydeco', 'zygote', 'zygotes']\n",
      "The first and last 5 entries are:\n",
      "[['a', 'a', 'h'], ['a', 'a', 'a', 'd', 'k', 'r', 'r', 'v'], ['a', 'a', 'a', 'd', 'k', 'r', 'r', 's', 'v'], ['a', 'a', 'b', 'c', 's', 'u'], ['a', 'a', 'b', 'c', 'e', 's', 's', 'u']]\n",
      "[['c', 'c', 'h', 'i', 'i', 'n', 'u', 'z'], ['c', 'c', 'h', 'i', 'i', 'n', 's', 'u', 'z'], ['c', 'd', 'e', 'o', 'y', 'z'], ['e', 'g', 'o', 't', 'y', 'z'], ['e', 'g', 'o', 's', 't', 'y', 'z']]\n"
     ]
    }
   ],
   "source": [
    "if __name__ == '__main__':\n",
    "    words, words_sorted = main()"
   ]
  },
  {
   "cell_type": "code",
   "execution_count": 23,
   "metadata": {},
   "outputs": [
    {
     "data": {
      "text/plain": [
       "'aeprs'"
      ]
     },
     "execution_count": 23,
     "metadata": {},
     "output_type": "execute_result"
    }
   ],
   "source": [
    "my_word = 'aeprs'  # the act of protesting"
   ]
  },
  {
   "cell_type": "code",
   "execution_count": 24,
   "metadata": {},
   "outputs": [
    {
     "data": {
      "text/plain": [
       "['a', 'e', 'p', 'r', 's']"
      ]
     },
     "execution_count": 24,
     "metadata": {},
     "output_type": "execute_result"
    }
   ],
   "source": [
    "my_word_sorted = sorted(list(my_word))"
   ]
  },
  {
   "cell_type": "code",
   "execution_count": 26,
   "metadata": {},
   "outputs": [
    {
     "data": {
      "text/plain": [
       "[37517, 37583, 37953, 42605, 42901, 50023, 50092]"
      ]
     },
     "execution_count": 26,
     "metadata": {},
     "output_type": "execute_result"
    }
   ],
   "source": [
    "test1 = [i for (i, word) in enumerate(words_sorted) if word == my_word_sorted]"
   ]
  },
  {
   "cell_type": "code",
   "execution_count": 36,
   "metadata": {},
   "outputs": [
    {
     "data": {
      "text/plain": [
       "['pares', 'parse', 'pears', 'rapes', 'reaps', 'spare', 'spear']"
      ]
     },
     "execution_count": 36,
     "metadata": {},
     "output_type": "execute_result"
    }
   ],
   "source": [
    "match_words = [words[i] for i in test1]"
   ]
  },
  {
   "cell_type": "code",
   "execution_count": null,
   "metadata": {},
   "outputs": [],
   "source": []
  }
 ],
 "metadata": {
  "kernelspec": {
   "display_name": "Python 3",
   "language": "python",
   "name": "python3"
  },
  "language_info": {
   "codemirror_mode": {
    "name": "ipython",
    "version": 3
   },
   "file_extension": ".py",
   "mimetype": "text/x-python",
   "name": "python",
   "nbconvert_exporter": "python",
   "pygments_lexer": "ipython3",
   "version": "3.8.5"
  }
 },
 "nbformat": 4,
 "nbformat_minor": 4
}
