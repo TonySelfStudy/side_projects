{
 "cells": [
  {
   "cell_type": "code",
   "execution_count": 14,
   "metadata": {},
   "outputs": [],
   "source": [
    "\"\"\"\n",
    "Produce a desirable D&D Character to mount an attack on the most evil of Hickam Dungeon Masters!\n",
    "Created:       2020-04-13\n",
    "Last modified: 2021-03-01\n",
    "\"\"\"\n",
    "from random import randint  # access random number generator function from python library"
   ]
  },
  {
   "cell_type": "code",
   "execution_count": 15,
   "metadata": {},
   "outputs": [],
   "source": [
    "def print_header(header, seperator='*'):\n",
    "    \"\"\"Print header text followed by a line of seperators its own length.   \n",
    "    header : str\n",
    "        Header to be followed by delimeter.\n",
    "    seperator : str\n",
    "        Charater to repeat on line after header.\n",
    "    \"\"\"\n",
    "    print(f\"{header}\\n{seperator*len(header)}\\n\")"
   ]
  },
  {
   "cell_type": "code",
   "execution_count": 16,
   "metadata": {},
   "outputs": [],
   "source": [
    "def roll_n_sided_die_m_times(num_sides, num_dice=1):\n",
    "    \"Roll a num_sides die num_dice times\"\n",
    "    rolls = [randint(1, num_sides) for i in range(num_dice)]\n",
    "    return rolls"
   ]
  },
  {
   "cell_type": "code",
   "execution_count": 17,
   "metadata": {},
   "outputs": [],
   "source": [
    "def roll3():\n",
    "    \"\"\"Return the values of 3 6-sided dice thrown simultaneously\"\"\"\n",
    "    # randint is incredibly slow which is the bottleneck for the whole program\n",
    "    rolls = roll_n_sided_die_m_times(6, 3)\n",
    "    return rolls"
   ]
  },
  {
   "cell_type": "code",
   "execution_count": 18,
   "metadata": {},
   "outputs": [],
   "source": [
    "def roll_6_sets_of_3():\n",
    "    \"\"\"Roll 3 6-sided dice six times to create all d&d characteristcs.\"\"\"\n",
    "    rolls = [sum(roll3()) for x in range(6)]\n",
    "    return rolls"
   ]
  },
  {
   "cell_type": "code",
   "execution_count": 19,
   "metadata": {},
   "outputs": [
    {
     "name": "stdout",
     "output_type": "stream",
     "text": [
      "num_dice=4, num_sides=10, rolls=[8, 2, 3, 9], sum(rolls)=22\n",
      "num_dice=3, num_sides=6, rolls=[5, 3, 6], sum(rolls)=14\n",
      "num_dice=3, num_sides=6, num_groups=6, rolls=[9, 14, 5, 10, 11, 13]\n"
     ]
    }
   ],
   "source": [
    "# Test functions\n",
    "num_dice = 4\n",
    "num_sides = 10\n",
    "rolls = roll_n_sided_die_m_times(num_sides, num_dice)\n",
    "print(f'{num_dice=}, {num_sides=}, {rolls=}, {sum(rolls)=}')\n",
    "\n",
    "rolls = roll3()\n",
    "print(f'num_dice=3, num_sides=6, {rolls=}, {sum(rolls)=}')\n",
    "\n",
    "rolls = roll_6_sets_of_3()\n",
    "print(f'num_dice=3, num_sides=6, num_groups=6, {rolls=}')"
   ]
  },
  {
   "cell_type": "code",
   "execution_count": 24,
   "metadata": {},
   "outputs": [],
   "source": [
    "class D_and_D:\n",
    "    \"\"\"D_and_D stores Dungeons & Dragons characteristc values\"\"\"\n",
    "\n",
    "    # The D&D Character's innate characteristics \n",
    "    CHARACTERISTIC_NAMES = ('strength', 'dexterity', 'intelligence', 'wisdom', 'charisma', 'constitution')\n",
    "    \n",
    "    # Number of characteristics for a single character\n",
    "    NUM_CHARACTERISTICS = len(CHARACTERISTIC_NAMES) \n",
    "\n",
    "    # MIN_ROLL is the prefered minimum value deemed desired\n",
    "    # for this DND character (possible range of 3 to 18).\n",
    "    MIN_ROLL = 16\n",
    "\n",
    "    def __init__(self, player_name):\n",
    "        self.player_name = player_name\n",
    "        self.characteristics = None\n",
    "        self.roll_character()\n",
    "        self.display_character()\n",
    "        \n",
    "    def display_character(self):\n",
    "        print_header(f\"Player named '{self.player_name}' has the following Characteristics:\")\n",
    "        for quality, value in zip(D_and_D.CHARACTERISTIC_NAMES, self.characteristics):\n",
    "            print(f'{quality} = {value}')\n",
    "        print()\n",
    "        \n",
    "    def roll_character(self):\n",
    "        \"\"\"Roll a character with all values >= than MIN_ROLL\"\"\" \n",
    "        print_header(f'Rolling for characteristics of player named {self.player_name}', '-')\n",
    "        \n",
    "        attempts = 0\n",
    "        min_roll = 0     # Value of smallest characteristics in last roll\n",
    "        best_roll = []   # Best rolls so far (in case you don't)\n",
    "\n",
    "        # Roll all qualities and then check if all are greater than minimum\n",
    "        while True:\n",
    "            attempts += 1\n",
    "            last_roll = roll_6_sets_of_3()  # roll all charateristics\n",
    "            min_roll = min(last_roll)       # find min roll in charateristics\n",
    "            \n",
    "            # Save the best roll so far\n",
    "            if sum(last_roll) > sum(best_roll):\n",
    "                best_roll = last_roll\n",
    "            \n",
    "            # Roll found meeting min characterstics\n",
    "            if min_roll >= D_and_D.MIN_ROLL:\n",
    "                break\n",
    "\n",
    "            # Roll not found within a max search tries\n",
    "            # Stop looking and return best rolls so far\n",
    "            if (attempts % 500_000 == 0):\n",
    "                print(f'I quit looking after {attempts} attempts!\\nUsing best roll so far ...')\n",
    "                last_roll = best_roll\n",
    "                break\n",
    "                \n",
    "            # Keep searching with periodic update notices                \n",
    "            if (attempts % 50_000 == 0):\n",
    "                print(f'Still looking after {attempts} attempts ...')\n",
    "            \n",
    "        print(f'{attempts} attempts were made to roll a character '\n",
    "              f'with all characteristics >= {D_and_D.MIN_ROLL}\\n')\n",
    "        \n",
    "        self.characteristics = last_roll"
   ]
  },
  {
   "cell_type": "code",
   "execution_count": 25,
   "metadata": {},
   "outputs": [
    {
     "name": "stdout",
     "output_type": "stream",
     "text": [
      "Rolling for characteristics of player named Flach the Fearless\n",
      "--------------------------------------------------------------\n",
      "\n",
      "Still looking after 50000 attempts ...\n",
      "Still looking after 100000 attempts ...\n",
      "Still looking after 150000 attempts ...\n",
      "Still looking after 200000 attempts ...\n",
      "Still looking after 250000 attempts ...\n",
      "Still looking after 300000 attempts ...\n",
      "Still looking after 350000 attempts ...\n",
      "Still looking after 400000 attempts ...\n",
      "Still looking after 450000 attempts ...\n",
      "I quit looking after 500000 attempts!\n",
      "Using best roll so far ...\n",
      "500000 attempts were made to roll a character with all characteristics >= 16\n",
      "\n",
      "Player named 'Flach the Fearless' has the following Characteristics:\n",
      "********************************************************************\n",
      "\n",
      "strength = 18\n",
      "dexterity = 13\n",
      "intelligence = 12\n",
      "wisdom = 17\n",
      "charisma = 16\n",
      "constitution = 18\n",
      "\n",
      "Rolling for characteristics of player named Seguso the Strong\n",
      "-------------------------------------------------------------\n",
      "\n",
      "Still looking after 50000 attempts ...\n",
      "Still looking after 100000 attempts ...\n",
      "Still looking after 150000 attempts ...\n",
      "Still looking after 200000 attempts ...\n",
      "Still looking after 250000 attempts ...\n",
      "Still looking after 300000 attempts ...\n",
      "Still looking after 350000 attempts ...\n",
      "Still looking after 400000 attempts ...\n",
      "Still looking after 450000 attempts ...\n",
      "I quit looking after 500000 attempts!\n",
      "Using best roll so far ...\n",
      "500000 attempts were made to roll a character with all characteristics >= 16\n",
      "\n",
      "Player named 'Seguso the Strong' has the following Characteristics:\n",
      "*******************************************************************\n",
      "\n",
      "strength = 15\n",
      "dexterity = 18\n",
      "intelligence = 14\n",
      "wisdom = 14\n",
      "charisma = 16\n",
      "constitution = 16\n",
      "\n"
     ]
    }
   ],
   "source": [
    "flach = D_and_D('Flach the Fearless')\n",
    "seguso = D_and_D('Seguso the Strong')"
   ]
  },
  {
   "cell_type": "code",
   "execution_count": null,
   "metadata": {},
   "outputs": [],
   "source": []
  }
 ],
 "metadata": {
  "kernelspec": {
   "display_name": "Python 3",
   "language": "python",
   "name": "python3"
  },
  "language_info": {
   "codemirror_mode": {
    "name": "ipython",
    "version": 3
   },
   "file_extension": ".py",
   "mimetype": "text/x-python",
   "name": "python",
   "nbconvert_exporter": "python",
   "pygments_lexer": "ipython3",
   "version": "3.8.5"
  }
 },
 "nbformat": 4,
 "nbformat_minor": 4
}
